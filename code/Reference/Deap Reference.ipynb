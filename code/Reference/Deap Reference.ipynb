{
 "cells": [
  {
   "cell_type": "code",
   "execution_count": 1,
   "id": "2f56cf5e",
   "metadata": {},
   "outputs": [],
   "source": [
    "# Base Imports\n",
    "\n",
    "import operator\n",
    "import random\n",
    "\n",
    "from deap import base, gp, tools\n",
    "\n",
    "# Requires installation of Graphviz-dev tool\n",
    "import pygraphviz as pgv\n",
    "\n",
    "import matplotlib.pyplot as plt\n",
    "import networkx as nx"
   ]
  },
  {
   "cell_type": "code",
   "execution_count": 2,
   "id": "55dbb35d",
   "metadata": {},
   "outputs": [],
   "source": [
    "# Defining a primitive set (Weak Type)\n",
    "pset = gp.PrimitiveSet(\"main\", 2) # name of the procedure generated, and its inputs\n",
    "\n",
    "# Adding Operators to the Primitive Set\n",
    "pset.addPrimitive(max, 2)      # add the max function as a primitive with 2 inputs\n",
    "pset.addPrimitive(operator.add, 2) # add the addition operator (2 inputs)\n",
    "pset.addPrimitive(operator.mul, 2) # add the mult operator (2 inputs)\n",
    "pset.addPrimitive(operator.neg, 1) # add the negation operator (1 input)\n",
    "\n",
    "# Adding Terminals to the Primitive Set\n",
    "pset.renameArguments(ARG0=\"x\") # Setting the input var name\n",
    "pset.renameArguments(ARG1=\"y\") # Setting the input var name\n",
    "pset.addTerminal(1)            # Fixed value terminal"
   ]
  },
  {
   "cell_type": "code",
   "execution_count": 3,
   "id": "73905b7a",
   "metadata": {},
   "outputs": [
    {
     "name": "stdout",
     "output_type": "stream",
     "text": [
      "add(add(1, y), add(1, 1))\n"
     ]
    }
   ],
   "source": [
    "# Generating a Tree\n",
    "expr = gp.genFull(pset, min_=1, max_=3) # Generates a rendom full tree from a terminal set\n",
    "tree = gp.PrimitiveTree(expr)           # Tree constructor\n",
    "\n",
    "print(tree)"
   ]
  },
  {
   "cell_type": "code",
   "execution_count": 4,
   "id": "eeac8278",
   "metadata": {},
   "outputs": [
    {
     "name": "stdout",
     "output_type": "stream",
     "text": [
      "[0, 1, 2, 3, 4, 5, 6]\n",
      "[(0, 1), (1, 2), (1, 3), (0, 4), (4, 5), (4, 6)]\n",
      "{0: 'add', 1: 'add', 2: 1, 3: 'y', 4: 'add', 5: 1, 6: 1}\n"
     ]
    }
   ],
   "source": [
    "# Tree Visualization\n",
    "nodes, edges, labels = gp.graph(expr)\n",
    "\n",
    "print(nodes)\n",
    "print(edges)\n",
    "print(labels)"
   ]
  },
  {
   "cell_type": "code",
   "execution_count": 5,
   "id": "e686b71f",
   "metadata": {},
   "outputs": [],
   "source": [
    "# Graphviz\n",
    "\n",
    "g = pgv.AGraph()\n",
    "g.add_nodes_from(nodes)\n",
    "g.add_edges_from(edges)\n",
    "g.layout(prog=\"dot\")\n",
    "\n",
    "for i in nodes:\n",
    "    n = g.get_node(i)\n",
    "    n.attr[\"label\"] = labels[i]\n",
    "    \n",
    "g.draw(\"tree.png\")"
   ]
  },
  {
   "cell_type": "code",
   "execution_count": 7,
   "id": "95488892",
   "metadata": {},
   "outputs": [
    {
     "data": {
      "image/png": "[encoded data removed]",
      "text/plain": [
       "<Figure size 640x480 with 1 Axes>"
      ]
     },
     "metadata": {},
     "output_type": "display_data"
    }
   ],
   "source": [
    "# Networkx\n",
    "\n",
    "g = nx.Graph()\n",
    "g.add_nodes_from(nodes)\n",
    "g.add_edges_from(edges)\n",
    "# pos = nx.graphviz_layout(g, prog=\"dot\") Not working for some reason\n",
    "pos = nx.spring_layout(g)\n",
    "\n",
    "nx.draw_networkx_nodes(g, pos)\n",
    "nx.draw_networkx_edges(g, pos)\n",
    "nx.draw_networkx_labels(g, pos, labels)\n",
    "plt.show()"
   ]
  },
  {
   "cell_type": "code",
   "execution_count": 5,
   "id": "10c92db2",
   "metadata": {},
   "outputs": [
    {
     "name": "stdout",
     "output_type": "stream",
     "text": [
      "48\n"
     ]
    }
   ],
   "source": [
    "# Running a tree\n",
    "tree_exec = gp.compile(tree, pset)\n",
    "\n",
    "# Checking results:\n",
    "print(tree_exec(1, 2)) # Remember we defined two inputs"
   ]
  },
  {
   "cell_type": "code",
   "execution_count": null,
   "id": "d1acdff2",
   "metadata": {},
   "outputs": [],
   "source": []
  }
 ],
 "metadata": {
  "kernelspec": {
   "display_name": "Python 3 (ipykernel)",
   "language": "python",
   "name": "python3"
  },
  "language_info": {
   "codemirror_mode": {
    "name": "ipython",
    "version": 3
   },
   "file_extension": ".py",
   "mimetype": "text/x-python",
   "name": "python",
   "nbconvert_exporter": "python",
   "pygments_lexer": "ipython3",
   "version": "3.11.0"
  }
 },
 "nbformat": 4,
 "nbformat_minor": 5
}

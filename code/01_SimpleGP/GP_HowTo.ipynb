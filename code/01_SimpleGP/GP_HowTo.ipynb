{
 "cells": [
  {
   "cell_type": "markdown",
   "id": "197cde35",
   "metadata": {},
   "source": [
    "# How to use DEAP for Genetic Programming (GP)\n",
    "\n",
    "By Claus Aranha (caranha), 2022-11-14\n",
    "\n",
    "A reference for using the DEAP library"
   ]
  },
  {
   "cell_type": "code",
   "execution_count": 1,
   "id": "2f56cf5e",
   "metadata": {},
   "outputs": [],
   "source": [
    "# Importing necessary modules\n",
    "\n",
    "# Python operators: Add, Multiply, Subtract, etc.\n",
    "import operator \n",
    "import random   \n",
    "\n",
    "# Modules from the DEAP library for using Genetic Programming\n",
    "from deap import base, gp, tools\n",
    "\n",
    "# Module for generating Graphs with GraphViz (requires external installation)\n",
    "import pygraphviz as pgv\n"
   ]
  },
  {
   "cell_type": "markdown",
   "id": "13f75da7",
   "metadata": {},
   "source": [
    "## 1. Defining a GP Primitive set\n",
    "\n",
    "The key choice when implementing GP is they **Primitive Set**. There are two types of primitives:\n",
    "\n",
    "- Terminals: Inputs and Constants\n",
    "- Operators: Modify the terminals\n",
    "\n",
    "In DEAP, the primitive set is contained in a `gp.PrimitiveSet` object. \n",
    "\n",
    "- Creating Terminals: The object creator will create the necessary number of input terminals, and there are function for adding constant terminals. \n",
    "- Creating Operators: Any python function can be added as an operator, including user defined functions, using the `pset.addPrimitive` function. You must remember to set the **arity**, which is the number of parameters.\n",
    "\n",
    "\n"
   ]
  },
  {
   "cell_type": "code",
   "execution_count": 2,
   "id": "55dbb35d",
   "metadata": {},
   "outputs": [],
   "source": [
    "# Create the Primitive Set Object, with the number of inputs:\n",
    "pset = gp.PrimitiveSet(\"main\", 2, \"IN\") # The third parameter is the name we give to the input terminals\n",
    "\n",
    "## Adding constants:\n",
    "# Fixed value terminal\n",
    "pset.addTerminal(1)            \n",
    "# An Ephemeral Constant has a random value when it is created\n",
    "pset.addEphemeralConstant(\"EPC\", lambda: random.randint(-1,1)) \n",
    "\n",
    "## We can also change the name of the terminals if we want:\n",
    "# pset.renameArguments(IN0=\"x\") # Setting the input var name\n",
    "# pset.renameArguments(IN1=\"y\") # Setting the input var name\n",
    "\n",
    "## Adding Operators:\n",
    "\n",
    "# Operators from python functions:\n",
    "pset.addPrimitive(max, 2)          # add the max function as a primitive with 2 inputs\n",
    "pset.addPrimitive(operator.add, 2) # add the addition operator (2 inputs)\n",
    "pset.addPrimitive(operator.mul, 2) # add the mult operator (2 inputs)\n",
    "pset.addPrimitive(operator.neg, 1) # add the negation operator (1 input)\n",
    "\n",
    "# Operators from hand-made functions:\n",
    "def divideByTwo(n):\n",
    "    return n / 2.\n",
    "\n",
    "pset.addPrimitive(divideByTwo, 1)\n",
    "\n"
   ]
  },
  {
   "cell_type": "markdown",
   "id": "68c460f5",
   "metadata": {},
   "source": [
    "## 2. Generating a Tree\n",
    "\n",
    "There are two functions in DEAP for generating GP trees: \n",
    "\n",
    "- `gp.genFull(pset, min_, max_)`: Generates a full tree. Every terminal has the same depth (between min and max)\n",
    "- `gp.genGrow(pset, min_, max_)`: Generates a tree. Every terminal has different depth (between min and max)\n",
    "\n",
    "These two functions generate a list of DEAP objects (operators and terminals). You may want to convert these into the more complete `PrimitiveTree` object."
   ]
  },
  {
   "cell_type": "code",
   "execution_count": 3,
   "id": "73905b7a",
   "metadata": {},
   "outputs": [
    {
     "name": "stdout",
     "output_type": "stream",
     "text": [
      "neg(add(0, IN0))\n",
      "max(max(max(neg(-1), add(IN1, IN0)), divideByTwo(IN1)), divideByTwo(-1))\n"
     ]
    }
   ],
   "source": [
    "# Generating a Tree\n",
    "\n",
    "expr_full = gp.genFull(pset, min_ = 2, max_ = 2)\n",
    "expr_grow = gp.genGrow(pset, min_ = 2, max_ = 4)\n",
    "\n",
    "tree_full = gp.PrimitiveTree(expr_full)\n",
    "tree_grow = gp.PrimitiveTree(expr_grow)\n",
    "\n",
    "print(tree_full)\n",
    "print(tree_grow)"
   ]
  },
  {
   "cell_type": "markdown",
   "id": "15f5d033",
   "metadata": {},
   "source": [
    "## 3. Visualizing a Tree\n",
    "\n",
    "It is **Very Important** to visualize the results obtained by Genetic Programming. \n",
    "\n",
    "You can use the `gp.graph(tree)` function to generate the list of nodes, edges, and labels of a GP tree."
   ]
  },
  {
   "cell_type": "code",
   "execution_count": 4,
   "id": "eeac8278",
   "metadata": {},
   "outputs": [
    {
     "name": "stdout",
     "output_type": "stream",
     "text": [
      "[0, 1, 2, 3, 4, 5, 6, 7, 8, 9, 10, 11]\n",
      "[(0, 1), (1, 2), (2, 3), (3, 4), (2, 5), (5, 6), (5, 7), (1, 8), (8, 9), (0, 10), (10, 11)]\n",
      "{0: 'max', 1: 'max', 2: 'max', 3: 'neg', 4: -1, 5: 'add', 6: 'IN1', 7: 'IN0', 8: 'divideByTwo', 9: 'IN1', 10: 'divideByTwo', 11: -1}\n"
     ]
    }
   ],
   "source": [
    "# Tree Visualization\n",
    "nodes, edges, labels = gp.graph(tree_grow)\n",
    "\n",
    "print(nodes)\n",
    "print(edges)\n",
    "print(labels)"
   ]
  },
  {
   "cell_type": "markdown",
   "id": "10df5899",
   "metadata": {},
   "source": [
    "### 3.1 GP Tree visualization with GraphViz\n",
    "\n",
    "`GraphViz` provides a very easy way to generate images from trees.\n",
    "\n",
    "You can, of course, use any program that you want to visualize a GP tree Graph."
   ]
  },
  {
   "cell_type": "code",
   "execution_count": 5,
   "id": "e686b71f",
   "metadata": {},
   "outputs": [],
   "source": [
    "# Graphviz\n",
    "\n",
    "def drawtree(t, filename):\n",
    "    nodes, edges, labels = gp.graph(t)\n",
    "    g = pgv.AGraph()\n",
    "    g.add_nodes_from(nodes)\n",
    "    g.add_edges_from(edges)\n",
    "    g.layout(prog=\"dot\")\n",
    "\n",
    "    for i in nodes:\n",
    "        n = g.get_node(i)\n",
    "        n.attr[\"label\"] = labels[i]\n",
    "\n",
    "    g.draw(filename)\n",
    "\n",
    "drawtree(tree_full, \"tree_full.png\")\n",
    "drawtree(tree_grow, \"tree_grow.png\")\n"
   ]
  },
  {
   "cell_type": "markdown",
   "id": "b2d2dd07",
   "metadata": {},
   "source": [
    "[Tree_full](tree_full.png)  \n",
    "[Tree_grow](tree_grow.png)"
   ]
  },
  {
   "cell_type": "markdown",
   "id": "10cabbdc",
   "metadata": {},
   "source": [
    "## 4. Evaluating a Tree\n",
    "\n",
    "We can create a function from a GP tree using the `gp.compile(tree, pset)` function."
   ]
  },
  {
   "cell_type": "code",
   "execution_count": 8,
   "id": "10c92db2",
   "metadata": {},
   "outputs": [
    {
     "name": "stdout",
     "output_type": "stream",
     "text": [
      "Function: max(max(max(neg(-1), add(IN1, IN0)), IN0), divideByTwo(-1))\n",
      "Result for (1, 2): 3\n"
     ]
    }
   ],
   "source": [
    "# Compiling the Tree\n",
    "tg_func = gp.compile(tree_grow, pset)\n",
    "\n",
    "# Executing the Tree:\n",
    "print(\"Function: {}\".format(tree_grow))\n",
    "print(\"Result for (1, 2): {}\".format(tg_func(1, 2)))"
   ]
  },
  {
   "cell_type": "markdown",
   "id": "168dfbab",
   "metadata": {},
   "source": [
    "## 5. Crossover and Mutation\n",
    "\n",
    "There are several crossover and mutation operators in deap. Let's see two of them.\n",
    "\n",
    "- `gp.cxOnePoint(tree1, tree2)`: chooses the crossover point between tree 1 and tree 2 at random, and create two new trees.\n",
    "- `gp.mutInsert(tree, pset)`: creates a new branch at a random point in the tree"
   ]
  },
  {
   "cell_type": "code",
   "execution_count": 21,
   "id": "e4d90c1e",
   "metadata": {},
   "outputs": [],
   "source": [
    "# Crossover:\n",
    "\n",
    "cx_tree1, cx_tree2 = gp.cxOnePoint(tree_grow, tree_full)\n",
    "\n",
    "drawtree(cx_tree1, \"crossover_tree1.png\")\n",
    "drawtree(cx_tree2, \"crossover_tree2.png\")\n",
    "\n",
    "# Mutation\n",
    "\n",
    "mut_tree, = gp.mutInsert(tree_grow, pset)\n",
    "\n",
    "drawtree(mut_tree, \"mutation_tree.png\")"
   ]
  },
  {
   "cell_type": "markdown",
   "id": "cdec805b",
   "metadata": {},
   "source": [
    "[Crossover 1](crossover_tree1.png)  \n",
    "[Crossover 2](crossover_tree2.png)  \n",
    "[Mutation](mutation_tree.png)"
   ]
  },
  {
   "cell_type": "markdown",
   "id": "8f271bb6",
   "metadata": {},
   "source": [
    "## 6. Putting it all together\n",
    "\n",
    "- Create a list, `pop` of random initial trees.\n",
    "- For loop:\n",
    "  - Evaluate `pop`\n",
    "  - Record the best individual so far\n",
    "  - Report average and best fitness\n",
    "  - Select some trees from pop based on fitness\n",
    "  - Create `pop_new` by applying crossover and mutation on trees from `pop`\n",
    "  - `pop = pop_new`\n",
    "- Report the final best individual\n",
    "\n",
    "You can create this loop by hand, or you can use functions from DEAP. \n",
    "\n",
    "We will see both options."
   ]
  },
  {
   "cell_type": "markdown",
   "id": "abba5302",
   "metadata": {},
   "source": [
    "## Extra: Loading a tree from a string\n",
    "\n",
    "After you finish your computation, you want to save the best program that you found. You can save it as a string, and load it later using `gp.PrimitiveTree.from_string(string, pset)`. Don't forget to create the same pset (or save it using pickle or something)."
   ]
  },
  {
   "cell_type": "code",
   "execution_count": 23,
   "id": "d1acdff2",
   "metadata": {},
   "outputs": [
    {
     "name": "stdout",
     "output_type": "stream",
     "text": [
      "mul(IN0, IN1)\n",
      "6\n"
     ]
    }
   ],
   "source": [
    "# We can create trees directly from strings.\n",
    "\n",
    "tree_string = gp.PrimitiveTree.from_string(\"mul(IN0, IN1)\", pset)\n",
    "print(tree_string)\n",
    "\n",
    "ts_func = gp.compile(tree_string, pset)\n",
    "print(ts_func(3, 2))\n",
    "\n",
    "drawtree(tree_string, \"tree_string.png\")"
   ]
  },
  {
   "cell_type": "markdown",
   "id": "b5d0a9e1",
   "metadata": {},
   "source": [
    "[String Tree](tree_string.png)"
   ]
  }
 ],
 "metadata": {
  "kernelspec": {
   "display_name": "Python 3 (ipykernel)",
   "language": "python",
   "name": "python3"
  },
  "language_info": {
   "codemirror_mode": {
    "name": "ipython",
    "version": 3
   },
   "file_extension": ".py",
   "mimetype": "text/x-python",
   "name": "python",
   "nbconvert_exporter": "python",
   "pygments_lexer": "ipython3",
   "version": "3.9.6"
  }
 },
 "nbformat": 4,
 "nbformat_minor": 5
}

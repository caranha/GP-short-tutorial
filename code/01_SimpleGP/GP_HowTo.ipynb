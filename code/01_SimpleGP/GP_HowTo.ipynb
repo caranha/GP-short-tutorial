{
 "cells": [
  {
   "cell_type": "code",
   "execution_count": 2,
   "id": "2f56cf5e",
   "metadata": {},
   "outputs": [],
   "source": [
    "# Base Imports\n",
    "\n",
    "import operator\n",
    "import random\n",
    "\n",
    "from deap import base, gp, tools\n",
    "\n",
    "# Requires installation of Graphviz-dev tool\n",
    "import pygraphviz as pgv\n",
    "\n"
   ]
  },
  {
   "cell_type": "code",
   "execution_count": 3,
   "id": "55dbb35d",
   "metadata": {},
   "outputs": [],
   "source": [
    "# Defining a primitive set\n",
    "pset = gp.PrimitiveSet(\"main\", 2) # name of the procedure generated, and its inputs\n",
    "\n",
    "# Adding Operators to the Primitive Set\n",
    "pset.addPrimitive(max, 2)      # add the max function as a primitive with 2 inputs\n",
    "pset.addPrimitive(operator.add, 2) # add the addition operator (2 inputs)\n",
    "pset.addPrimitive(operator.mul, 2) # add the mult operator (2 inputs)\n",
    "pset.addPrimitive(operator.neg, 1) # add the negation operator (1 input)\n",
    "\n",
    "# Adding Terminals to the Primitive Set\n",
    "pset.renameArguments(ARG0=\"x\") # Setting the input var name\n",
    "pset.renameArguments(ARG1=\"y\") # Setting the input var name\n",
    "pset.addTerminal(1)            # Fixed value terminal"
   ]
  },
  {
   "cell_type": "code",
   "execution_count": 4,
   "id": "73905b7a",
   "metadata": {},
   "outputs": [
    {
     "name": "stdout",
     "output_type": "stream",
     "text": [
      "max(neg(max(y, 1)), max(mul(x, y), mul(x, x)))\n"
     ]
    }
   ],
   "source": [
    "# Generating a Tree\n",
    "expr = gp.genFull(pset, min_=1, max_=3) # Generates a rendom full tree from a terminal set\n",
    "tree = gp.PrimitiveTree(expr)           # Tree constructor\n",
    "\n",
    "print(tree)"
   ]
  },
  {
   "cell_type": "code",
   "execution_count": 5,
   "id": "eeac8278",
   "metadata": {},
   "outputs": [
    {
     "name": "stdout",
     "output_type": "stream",
     "text": [
      "[0, 1, 2, 3, 4, 5, 6, 7, 8, 9, 10, 11]\n",
      "[(0, 1), (1, 2), (2, 3), (2, 4), (0, 5), (5, 6), (6, 7), (6, 8), (5, 9), (9, 10), (9, 11)]\n",
      "{0: 'max', 1: 'neg', 2: 'max', 3: 'y', 4: 1, 5: 'max', 6: 'mul', 7: 'x', 8: 'y', 9: 'mul', 10: 'x', 11: 'x'}\n"
     ]
    }
   ],
   "source": [
    "# Tree Visualization\n",
    "nodes, edges, labels = gp.graph(tree)\n",
    "\n",
    "print(nodes)\n",
    "print(edges)\n",
    "print(labels)"
   ]
  },
  {
   "cell_type": "code",
   "execution_count": 6,
   "id": "e686b71f",
   "metadata": {},
   "outputs": [],
   "source": [
    "# Graphviz\n",
    "\n",
    "def drawtree(t, filename):\n",
    "    nodes, edges, labels = gp.graph(t)\n",
    "    g = pgv.AGraph()\n",
    "    g.add_nodes_from(nodes)\n",
    "    g.add_edges_from(edges)\n",
    "    g.layout(prog=\"dot\")\n",
    "\n",
    "    for i in nodes:\n",
    "        n = g.get_node(i)\n",
    "        n.attr[\"label\"] = labels[i]\n",
    "\n",
    "    g.draw(filename)\n",
    "\n",
    "drawtree(tree, \"tree.png\")\n"
   ]
  },
  {
   "cell_type": "code",
   "execution_count": 7,
   "id": "10c92db2",
   "metadata": {},
   "outputs": [
    {
     "name": "stdout",
     "output_type": "stream",
     "text": [
      "max(neg(max(y, 1)), max(mul(x, y), mul(x, x)))\n",
      "2\n"
     ]
    }
   ],
   "source": [
    "# Running a tree\n",
    "tree_exec = gp.compile(tree, pset)\n",
    "\n",
    "# Checking results:\n",
    "print(tree)\n",
    "print(tree_exec(1, 2)) # Remember we defined two inputs"
   ]
  },
  {
   "cell_type": "code",
   "execution_count": 8,
   "id": "d1acdff2",
   "metadata": {},
   "outputs": [
    {
     "name": "stdout",
     "output_type": "stream",
     "text": [
      "mul(x, y)\n",
      "6\n"
     ]
    }
   ],
   "source": [
    "# We can create trees directly from strings.\n",
    "\n",
    "tree2 = gp.PrimitiveTree.from_string(\"mul(x, y)\", pset)\n",
    "print(tree2)\n",
    "\n",
    "tree2_exec = gp.compile(tree2, pset)\n",
    "print(tree2_exec(3, 2))\n",
    "\n",
    "drawtree(tree2, \"tree2.png\")"
   ]
  }
 ],
 "metadata": {
  "kernelspec": {
   "display_name": "Python 3 (ipykernel)",
   "language": "python",
   "name": "python3"
  },
  "language_info": {
   "codemirror_mode": {
    "name": "ipython",
    "version": 3
   },
   "file_extension": ".py",
   "mimetype": "text/x-python",
   "name": "python",
   "nbconvert_exporter": "python",
   "pygments_lexer": "ipython3",
   "version": "3.9.6"
  }
 },
 "nbformat": 4,
 "nbformat_minor": 5
}
